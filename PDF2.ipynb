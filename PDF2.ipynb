{
 "cells": [
  {
   "cell_type": "code",
   "execution_count": 1,
   "id": "4631dae9",
   "metadata": {},
   "outputs": [
    {
     "name": "stdout",
     "output_type": "stream",
     "text": [
      "Requirement already satisfied: pypdf in c:\\users\\kusha\\anaconda3\\lib\\site-packages (3.16.1)Note: you may need to restart the kernel to use updated packages.\n",
      "\n"
     ]
    }
   ],
   "source": [
    "pip install pypdf"
   ]
  },
  {
   "cell_type": "code",
   "execution_count": 2,
   "id": "854943db",
   "metadata": {},
   "outputs": [],
   "source": [
    "from pypdf import PdfReader\n",
    "pdf_file_path = \"C:/Users/kusha/Documents/Python project/Star.pdf\" \n",
    "reader = PdfReader(pdf_file_path)\n",
    "number_of_pages = len(reader.pages)\n",
    "page = reader.pages[0]\n",
    "\n",
    "text = page.extract_text()\n",
    "\n",
    "\n",
    "PO_DATE=[]\n",
    "PO_NO=[]\n",
    "Sup_Name=[]\n",
    "Delivery_Date=[]\n",
    "Ship_Name=[]\n",
    "Ship_GST=[]\n",
    "Bill_Name=[]\n",
    "Bill_GST=[]\n",
    "Vendor_Code=[]\n",
    "Pan=[]\n",
    "Tan=[]\n",
    "Ship_Add=[]\n",
    "Bill_Add=[]"
   ]
  },
  {
   "cell_type": "code",
   "execution_count": 3,
   "id": "06b677b1",
   "metadata": {},
   "outputs": [
    {
     "data": {
      "text/plain": [
       "['                  Purchase OrderTrent Hypermarket Private Limited',\n",
       " '25th 26th 27th Floor , Lodha Exelus, New Cuffe Parade, Commercial Building,,Eastern Free Way, Opp. Imax Dome,Wadala',\n",
       " 'Mumbai400037',\n",
       " 'Corporate Identity Number: U51900MH2008PTC184184',\n",
       " '------------------------------- ------------------------------- ------------------------------- ------------------------------- ------------------------------- ------------------------------- ------------------------------- ------------------------------- -------',\n",
       " 'Vendor Detail',\n",
       " 'Borosil Limited',\n",
       " ',Village Balekhan, PS Anatpura, ,',\n",
       " 'Nr Govindgarh NH-52,Sikar',\n",
       " 'Rd,Chomu,,',\n",
       " ',Jaipur - 303807',\n",
       " 'RajasthanVendor No.: 10105397',\n",
       " 'Purchase Order :  5900753777',\n",
       " 'PO Date :    01.03.2023',\n",
       " 'Planned Delivery Date :    19.03.2023State Name & Code :Rajasthan - 08',\n",
       " 'PAN No : AACCH5367G',\n",
       " 'GSTIN / UIN : 08AACCH5367G1ZH',\n",
       " 'Consignee Detail (Shipped to)',\n",
       " 'THPL',\n",
       " 'Star Bazaar-Trent Hypermarket Pvt L',\n",
       " 'GAT NO -810/811,',\n",
       " 'Taluka Haveli,',\n",
       " 'Wagholi,',\n",
       " 'Pune - 412207 - 412207',\n",
       " 'Maharashtra.State Name & Code :Maharashtra - 27',\n",
       " 'PAN No : AACCT9803D',\n",
       " 'GSTIN / UIN : 27AACCT9803D1ZE',\n",
       " 'Sr. Article Description of Goods EAN HSN Qty & Conversio',\n",
       " 'nQuantity Basic Price Taxable IGST CESS Total MRP',\n",
       " 'No. Code / Services Number Code/ SAC  UOM in SKU ( Per Pc ) Value Rate Amt Rate Amt',\n",
       " '  11404020 Borosil Trek Slate 700ml 8901309227445 96170012 90   PC     1  PC 90.000         501.08 45,097.59   18.000 8,117.57    0.000 53,215.16 1,075.00 ',\n",
       " '  21404032 Borosil Aquasoul Flask 600ml 8901309227650 96170011 120   PC     1  PC 120.000         417.18 50,061.82   18.000 9,011.13    0.000 59,072.95 895.00 ',\n",
       " '  31404033 Borosil Thirst Artctic 800ml 8901309227469 96170011 112   PC     1  PC 112.000         482.44 54,033.21   18.000 9,725.98    0.000 63,759.19 1,035.00 ',\n",
       " '  41404034 Borosil Thirst Sunflower 800ml 8901309227476 96170011 108   PC     1  PC 108.000         482.44 52,103.45   18.000 9,378.62    0.000 61,482.07 1,035.00 ',\n",
       " '  51404035 Borosil Thirst Lavender 800ml 8901309227483 96170011 48   PC     1  PC 48.000         482.44 23,157.09   18.000 4,168.28    0.000 27,325.37 1,035.00 ',\n",
       " '  61404036 Borosil Thirst Fuchsia 800ml 8901309227490 96170011 84   PC     1  PC 84.000         482.44 40,524.91   18.000 7,294.48    0.000 47,819.39 1,035.00 ',\n",
       " '  71404037 Borosil Thirst Steel 800ml 8901309227506 96170011 72   PC     1  PC 72.000         482.44 34,735.63   18.000 6,252.41    0.000 40,988.04 1,035.00 ',\n",
       " '  81404039 Borosil Thermo 750ml Black 8901309216128 96170011 72   PC     1  PC 72.000         449.81 32,386.36   18.000 5,829.54    0.000 38,215.90 965.00 ',\n",
       " '  91404040 Borosil Thermo 1000ml Black 8901309216135 96170012 112   PC     1  PC 112.000         501.08 56,121.45   18.000 10,101.86    0.000 66,223.31 1,075.00 ',\n",
       " 'Page 1 of 8------------------------------- ------------------------------- ------------------------------- ------------------------------- --------------------------',\n",
       " 'Registered Office  :  TAJ BUILDING, 2ND FLOOR, 210, DR.D.N. ROAD, FORT, MUMBAI  400 001. TEL:(91-22) 2207 1464  FAX: (91-22) 2207 0216']"
      ]
     },
     "execution_count": 3,
     "metadata": {},
     "output_type": "execute_result"
    }
   ],
   "source": [
    "text=text.split('\\n')\n",
    "text"
   ]
  },
  {
   "cell_type": "code",
   "execution_count": 4,
   "id": "92da4ba1",
   "metadata": {},
   "outputs": [],
   "source": [
    "def get_index(m, j, text):\n",
    "    indices = []\n",
    "    for i, x in enumerate(text):\n",
    "        if m in x:\n",
    "            indices.append(i + j)\n",
    "    return indices"
   ]
  },
  {
   "cell_type": "code",
   "execution_count": 5,
   "id": "211012f0",
   "metadata": {},
   "outputs": [],
   "source": [
    "m=get_index('PO Date',0,text)\n",
    "j=text[m[0]]\n",
    "j=j.split()\n",
    "PO_DATE.append(j[-1])"
   ]
  },
  {
   "cell_type": "code",
   "execution_count": 6,
   "id": "08d55b7d",
   "metadata": {},
   "outputs": [],
   "source": [
    "m=get_index('Purchase Order',0,text)\n",
    "j=text[m[1]]\n",
    "j=j.split()\n",
    "PO_NO.append(j[-1])"
   ]
  },
  {
   "cell_type": "code",
   "execution_count": 7,
   "id": "6e0a4126",
   "metadata": {},
   "outputs": [],
   "source": [
    "m=get_index('Vendor',1,text)\n",
    "Sup_Name.append(text[m[0]])"
   ]
  },
  {
   "cell_type": "code",
   "execution_count": 8,
   "id": "7be06caa",
   "metadata": {},
   "outputs": [],
   "source": [
    "m=get_index('Delivery Date',0,text)"
   ]
  },
  {
   "cell_type": "code",
   "execution_count": 9,
   "id": "3bda3714",
   "metadata": {},
   "outputs": [],
   "source": [
    "import re\n",
    "\n",
    "\n",
    "input_string = text[m[0]]\n",
    "\n",
    "\n",
    "date_pattern = r'\\d{2}\\.\\d{2}\\.\\d{4}'\n",
    "\n",
    "\n",
    "matches = re.search(date_pattern, input_string)\n",
    "\n",
    "\n",
    "if matches:\n",
    "    date = matches.group(0)\n",
    "    Delivery_Date.append(date)\n",
    "else:\n",
    "    print(\"Date not found in the input string.\")\n"
   ]
  },
  {
   "cell_type": "code",
   "execution_count": 10,
   "id": "da90e943",
   "metadata": {},
   "outputs": [
    {
     "data": {
      "text/plain": [
       "['19.03.2023']"
      ]
     },
     "execution_count": 10,
     "metadata": {},
     "output_type": "execute_result"
    }
   ],
   "source": [
    "Delivery_Date"
   ]
  },
  {
   "cell_type": "code",
   "execution_count": 11,
   "id": "28d41fb5",
   "metadata": {},
   "outputs": [],
   "source": [
    "m=get_index(\"Shipped to\",1,text)\n",
    "Ship_Name.append(text[m[0]])"
   ]
  },
  {
   "cell_type": "code",
   "execution_count": 12,
   "id": "ac385247",
   "metadata": {},
   "outputs": [],
   "source": [
    "m=get_index(\"GSTIN\",0,text)\n",
    "j=text[m[1]]\n",
    "j=j.split()\n",
    "Ship_GST.append(j[-1])\n",
    "j=text[m[0]]\n",
    "j=j.split()\n",
    "Bill_GST.append(j[-1])\n"
   ]
  },
  {
   "cell_type": "code",
   "execution_count": 13,
   "id": "e75e54ee",
   "metadata": {},
   "outputs": [],
   "source": [
    "m=get_index(\"Vendor\",1,text)\n",
    "Bill_Name.append(text[m[0]])"
   ]
  },
  {
   "cell_type": "code",
   "execution_count": 14,
   "id": "d7cb75fb",
   "metadata": {},
   "outputs": [
    {
     "data": {
      "text/plain": [
       "['08AACCH5367G1ZH']"
      ]
     },
     "execution_count": 14,
     "metadata": {},
     "output_type": "execute_result"
    }
   ],
   "source": [
    "Bill_GST"
   ]
  },
  {
   "cell_type": "code",
   "execution_count": 15,
   "id": "c334aeb5",
   "metadata": {},
   "outputs": [],
   "source": [
    "m=get_index('Vendor No',0,text)\n",
    "j=text[m[0]]\n",
    "j=j.split()\n",
    "Vendor_Code.append(j[-1])"
   ]
  },
  {
   "cell_type": "code",
   "execution_count": 16,
   "id": "26761114",
   "metadata": {},
   "outputs": [
    {
     "data": {
      "text/plain": [
       "['10105397']"
      ]
     },
     "execution_count": 16,
     "metadata": {},
     "output_type": "execute_result"
    }
   ],
   "source": [
    "Vendor_Code"
   ]
  },
  {
   "cell_type": "code",
   "execution_count": 17,
   "id": "41531c0b",
   "metadata": {},
   "outputs": [],
   "source": [
    "m=get_index(\"PAN No\",0,text)"
   ]
  },
  {
   "cell_type": "code",
   "execution_count": 18,
   "id": "45690c46",
   "metadata": {},
   "outputs": [],
   "source": [
    "j=text[m[0]]\n",
    "j=j.split()\n",
    "Pan.append(j[-1])"
   ]
  },
  {
   "cell_type": "code",
   "execution_count": 19,
   "id": "db88ef23",
   "metadata": {},
   "outputs": [
    {
     "data": {
      "text/plain": [
       "['AACCH5367G']"
      ]
     },
     "execution_count": 19,
     "metadata": {},
     "output_type": "execute_result"
    }
   ],
   "source": [
    "Pan"
   ]
  },
  {
   "cell_type": "code",
   "execution_count": 20,
   "id": "9338d00d",
   "metadata": {},
   "outputs": [],
   "source": [
    "m=get_index('Shipped to',2,text)\n",
    "Ship_Add.append(text[m[0]:m[0]+6])\n"
   ]
  },
  {
   "cell_type": "code",
   "execution_count": 21,
   "id": "c10a51ed",
   "metadata": {},
   "outputs": [],
   "source": [
    "m=get_index('Vendor Detail',2,text)\n",
    "Bill_Add.append(text[m[0]:m[0]+5])"
   ]
  },
  {
   "cell_type": "code",
   "execution_count": 22,
   "id": "df58ed9b",
   "metadata": {},
   "outputs": [
    {
     "data": {
      "text/plain": [
       "[[',Village Balekhan, PS Anatpura, ,',\n",
       "  'Nr Govindgarh NH-52,Sikar',\n",
       "  'Rd,Chomu,,',\n",
       "  ',Jaipur - 303807',\n",
       "  'RajasthanVendor No.: 10105397']]"
      ]
     },
     "execution_count": 22,
     "metadata": {},
     "output_type": "execute_result"
    }
   ],
   "source": [
    "Bill_Add"
   ]
  },
  {
   "cell_type": "code",
   "execution_count": 23,
   "id": "eb1b5a2d",
   "metadata": {},
   "outputs": [],
   "source": [
    "import pandas as pd\n",
    "\n",
    "\n",
    "# Wrap each value in a list to make them a single-element series\n",
    "new_data = {\n",
    "    'PO_DATE': [PO_DATE],\n",
    "    'PO_NO': [PO_NO],\n",
    "    'Sup_Name': [Sup_Name],\n",
    "    'Delivery_Date': [Delivery_Date],\n",
    "    'Ship_Name': [Ship_Name],\n",
    "    'Ship_GST': [Ship_GST],\n",
    "    'Bill_Name': [Bill_Name],\n",
    "    'Bill_Gst': [Bill_GST],\n",
    "    'Vendor_Code': [Vendor_Code],\n",
    "    'Pan': [Pan],\n",
    "    'Tan': [Tan],\n",
    "    'Ship_Add': [Ship_Add],\n",
    "    'Bill_Add': [Bill_Add]\n",
    "}\n",
    "\n",
    "\n",
    "# Create a DataFrame from the dictionary\n",
    "df = pd.DataFrame(new_data)"
   ]
  },
  {
   "cell_type": "code",
   "execution_count": 24,
   "id": "146d2478",
   "metadata": {},
   "outputs": [
    {
     "ename": "PermissionError",
     "evalue": "[Errno 13] Permission denied: 'output.xlsx'",
     "output_type": "error",
     "traceback": [
      "\u001b[1;31m---------------------------------------------------------------------------\u001b[0m",
      "\u001b[1;31mPermissionError\u001b[0m                           Traceback (most recent call last)",
      "Cell \u001b[1;32mIn[24], line 2\u001b[0m\n\u001b[0;32m      1\u001b[0m \u001b[38;5;66;03m# df.to_excel(\"C:\\\\Users\\\\kusha\\\\Documents\\\\Python project\\\\data.xlsx\", index=False)\u001b[39;00m\n\u001b[1;32m----> 2\u001b[0m \u001b[38;5;28;01mwith\u001b[39;00m \u001b[43mpd\u001b[49m\u001b[38;5;241;43m.\u001b[39;49m\u001b[43mExcelWriter\u001b[49m\u001b[43m(\u001b[49m\u001b[38;5;124;43m'\u001b[39;49m\u001b[38;5;124;43moutput.xlsx\u001b[39;49m\u001b[38;5;124;43m'\u001b[39;49m\u001b[43m)\u001b[49m \u001b[38;5;28;01mas\u001b[39;00m writer:\n\u001b[0;32m      3\u001b[0m     df\u001b[38;5;241m.\u001b[39mto_excel(writer,sheet_name\u001b[38;5;241m=\u001b[39m\u001b[38;5;124m'\u001b[39m\u001b[38;5;124mSheet_1\u001b[39m\u001b[38;5;124m'\u001b[39m)\n",
      "File \u001b[1;32m~\\anaconda3\\lib\\site-packages\\pandas\\io\\excel\\_openpyxl.py:60\u001b[0m, in \u001b[0;36mOpenpyxlWriter.__init__\u001b[1;34m(self, path, engine, date_format, datetime_format, mode, storage_options, if_sheet_exists, engine_kwargs, **kwargs)\u001b[0m\n\u001b[0;32m     56\u001b[0m \u001b[38;5;28;01mfrom\u001b[39;00m \u001b[38;5;21;01mopenpyxl\u001b[39;00m\u001b[38;5;21;01m.\u001b[39;00m\u001b[38;5;21;01mworkbook\u001b[39;00m \u001b[38;5;28;01mimport\u001b[39;00m Workbook\n\u001b[0;32m     58\u001b[0m engine_kwargs \u001b[38;5;241m=\u001b[39m combine_kwargs(engine_kwargs, kwargs)\n\u001b[1;32m---> 60\u001b[0m \u001b[38;5;28;43msuper\u001b[39;49m\u001b[43m(\u001b[49m\u001b[43m)\u001b[49m\u001b[38;5;241;43m.\u001b[39;49m\u001b[38;5;21;43m__init__\u001b[39;49m\u001b[43m(\u001b[49m\n\u001b[0;32m     61\u001b[0m \u001b[43m    \u001b[49m\u001b[43mpath\u001b[49m\u001b[43m,\u001b[49m\n\u001b[0;32m     62\u001b[0m \u001b[43m    \u001b[49m\u001b[43mmode\u001b[49m\u001b[38;5;241;43m=\u001b[39;49m\u001b[43mmode\u001b[49m\u001b[43m,\u001b[49m\n\u001b[0;32m     63\u001b[0m \u001b[43m    \u001b[49m\u001b[43mstorage_options\u001b[49m\u001b[38;5;241;43m=\u001b[39;49m\u001b[43mstorage_options\u001b[49m\u001b[43m,\u001b[49m\n\u001b[0;32m     64\u001b[0m \u001b[43m    \u001b[49m\u001b[43mif_sheet_exists\u001b[49m\u001b[38;5;241;43m=\u001b[39;49m\u001b[43mif_sheet_exists\u001b[49m\u001b[43m,\u001b[49m\n\u001b[0;32m     65\u001b[0m \u001b[43m    \u001b[49m\u001b[43mengine_kwargs\u001b[49m\u001b[38;5;241;43m=\u001b[39;49m\u001b[43mengine_kwargs\u001b[49m\u001b[43m,\u001b[49m\n\u001b[0;32m     66\u001b[0m \u001b[43m\u001b[49m\u001b[43m)\u001b[49m\n\u001b[0;32m     68\u001b[0m \u001b[38;5;66;03m# ExcelWriter replaced \"a\" by \"r+\" to allow us to first read the excel file from\u001b[39;00m\n\u001b[0;32m     69\u001b[0m \u001b[38;5;66;03m# the file and later write to it\u001b[39;00m\n\u001b[0;32m     70\u001b[0m \u001b[38;5;28;01mif\u001b[39;00m \u001b[38;5;124m\"\u001b[39m\u001b[38;5;124mr+\u001b[39m\u001b[38;5;124m\"\u001b[39m \u001b[38;5;129;01min\u001b[39;00m \u001b[38;5;28mself\u001b[39m\u001b[38;5;241m.\u001b[39m_mode:  \u001b[38;5;66;03m# Load from existing workbook\u001b[39;00m\n",
      "File \u001b[1;32m~\\anaconda3\\lib\\site-packages\\pandas\\io\\excel\\_base.py:1313\u001b[0m, in \u001b[0;36mExcelWriter.__init__\u001b[1;34m(self, path, engine, date_format, datetime_format, mode, storage_options, if_sheet_exists, engine_kwargs, **kwargs)\u001b[0m\n\u001b[0;32m   1309\u001b[0m \u001b[38;5;28mself\u001b[39m\u001b[38;5;241m.\u001b[39m_handles \u001b[38;5;241m=\u001b[39m IOHandles(\n\u001b[0;32m   1310\u001b[0m     cast(IO[\u001b[38;5;28mbytes\u001b[39m], path), compression\u001b[38;5;241m=\u001b[39m{\u001b[38;5;124m\"\u001b[39m\u001b[38;5;124mcompression\u001b[39m\u001b[38;5;124m\"\u001b[39m: \u001b[38;5;28;01mNone\u001b[39;00m}\n\u001b[0;32m   1311\u001b[0m )\n\u001b[0;32m   1312\u001b[0m \u001b[38;5;28;01mif\u001b[39;00m \u001b[38;5;129;01mnot\u001b[39;00m \u001b[38;5;28misinstance\u001b[39m(path, ExcelWriter):\n\u001b[1;32m-> 1313\u001b[0m     \u001b[38;5;28mself\u001b[39m\u001b[38;5;241m.\u001b[39m_handles \u001b[38;5;241m=\u001b[39m \u001b[43mget_handle\u001b[49m\u001b[43m(\u001b[49m\n\u001b[0;32m   1314\u001b[0m \u001b[43m        \u001b[49m\u001b[43mpath\u001b[49m\u001b[43m,\u001b[49m\u001b[43m \u001b[49m\u001b[43mmode\u001b[49m\u001b[43m,\u001b[49m\u001b[43m \u001b[49m\u001b[43mstorage_options\u001b[49m\u001b[38;5;241;43m=\u001b[39;49m\u001b[43mstorage_options\u001b[49m\u001b[43m,\u001b[49m\u001b[43m \u001b[49m\u001b[43mis_text\u001b[49m\u001b[38;5;241;43m=\u001b[39;49m\u001b[38;5;28;43;01mFalse\u001b[39;49;00m\n\u001b[0;32m   1315\u001b[0m \u001b[43m    \u001b[49m\u001b[43m)\u001b[49m\n\u001b[0;32m   1316\u001b[0m \u001b[38;5;28mself\u001b[39m\u001b[38;5;241m.\u001b[39m_cur_sheet \u001b[38;5;241m=\u001b[39m \u001b[38;5;28;01mNone\u001b[39;00m\n\u001b[0;32m   1318\u001b[0m \u001b[38;5;28;01mif\u001b[39;00m date_format \u001b[38;5;129;01mis\u001b[39;00m \u001b[38;5;28;01mNone\u001b[39;00m:\n",
      "File \u001b[1;32m~\\anaconda3\\lib\\site-packages\\pandas\\io\\common.py:865\u001b[0m, in \u001b[0;36mget_handle\u001b[1;34m(path_or_buf, mode, encoding, compression, memory_map, is_text, errors, storage_options)\u001b[0m\n\u001b[0;32m    856\u001b[0m         handle \u001b[38;5;241m=\u001b[39m \u001b[38;5;28mopen\u001b[39m(\n\u001b[0;32m    857\u001b[0m             handle,\n\u001b[0;32m    858\u001b[0m             ioargs\u001b[38;5;241m.\u001b[39mmode,\n\u001b[1;32m   (...)\u001b[0m\n\u001b[0;32m    861\u001b[0m             newline\u001b[38;5;241m=\u001b[39m\u001b[38;5;124m\"\u001b[39m\u001b[38;5;124m\"\u001b[39m,\n\u001b[0;32m    862\u001b[0m         )\n\u001b[0;32m    863\u001b[0m     \u001b[38;5;28;01melse\u001b[39;00m:\n\u001b[0;32m    864\u001b[0m         \u001b[38;5;66;03m# Binary mode\u001b[39;00m\n\u001b[1;32m--> 865\u001b[0m         handle \u001b[38;5;241m=\u001b[39m \u001b[38;5;28;43mopen\u001b[39;49m\u001b[43m(\u001b[49m\u001b[43mhandle\u001b[49m\u001b[43m,\u001b[49m\u001b[43m \u001b[49m\u001b[43mioargs\u001b[49m\u001b[38;5;241;43m.\u001b[39;49m\u001b[43mmode\u001b[49m\u001b[43m)\u001b[49m\n\u001b[0;32m    866\u001b[0m     handles\u001b[38;5;241m.\u001b[39mappend(handle)\n\u001b[0;32m    868\u001b[0m \u001b[38;5;66;03m# Convert BytesIO or file objects passed with an encoding\u001b[39;00m\n",
      "\u001b[1;31mPermissionError\u001b[0m: [Errno 13] Permission denied: 'output.xlsx'"
     ]
    }
   ],
   "source": [
    "# df.to_excel(\"C:\\\\Users\\\\kusha\\\\Documents\\\\Python project\\\\data.xlsx\", index=False)\n",
    "with pd.ExcelWriter('output.xlsx') as writer:\n",
    "    df.to_excel(writer,sheet_name='Sheet_1')"
   ]
  },
  {
   "cell_type": "code",
   "execution_count": 25,
   "id": "4e3afbe1",
   "metadata": {},
   "outputs": [
    {
     "data": {
      "text/html": [
       "<div>\n",
       "<style scoped>\n",
       "    .dataframe tbody tr th:only-of-type {\n",
       "        vertical-align: middle;\n",
       "    }\n",
       "\n",
       "    .dataframe tbody tr th {\n",
       "        vertical-align: top;\n",
       "    }\n",
       "\n",
       "    .dataframe thead th {\n",
       "        text-align: right;\n",
       "    }\n",
       "</style>\n",
       "<table border=\"1\" class=\"dataframe\">\n",
       "  <thead>\n",
       "    <tr style=\"text-align: right;\">\n",
       "      <th></th>\n",
       "      <th>PO_DATE</th>\n",
       "      <th>PO_NO</th>\n",
       "      <th>Sup_Name</th>\n",
       "      <th>Delivery_Date</th>\n",
       "      <th>Ship_Name</th>\n",
       "      <th>Ship_GST</th>\n",
       "      <th>Bill_Name</th>\n",
       "      <th>Bill_Gst</th>\n",
       "      <th>Vendor_Code</th>\n",
       "      <th>Pan</th>\n",
       "      <th>Tan</th>\n",
       "      <th>Ship_Add</th>\n",
       "      <th>Bill_Add</th>\n",
       "    </tr>\n",
       "  </thead>\n",
       "  <tbody>\n",
       "    <tr>\n",
       "      <th>0</th>\n",
       "      <td>[01.03.2023]</td>\n",
       "      <td>[5900753777]</td>\n",
       "      <td>[Borosil Limited]</td>\n",
       "      <td>[19.03.2023]</td>\n",
       "      <td>[THPL]</td>\n",
       "      <td>[27AACCT9803D1ZE]</td>\n",
       "      <td>[Borosil Limited]</td>\n",
       "      <td>[08AACCH5367G1ZH]</td>\n",
       "      <td>[10105397]</td>\n",
       "      <td>[AACCH5367G]</td>\n",
       "      <td>[]</td>\n",
       "      <td>[[Star Bazaar-Trent Hypermarket Pvt L, GAT NO ...</td>\n",
       "      <td>[[,Village Balekhan, PS Anatpura, ,, Nr Govind...</td>\n",
       "    </tr>\n",
       "  </tbody>\n",
       "</table>\n",
       "</div>"
      ],
      "text/plain": [
       "        PO_DATE         PO_NO           Sup_Name Delivery_Date Ship_Name  \\\n",
       "0  [01.03.2023]  [5900753777]  [Borosil Limited]  [19.03.2023]    [THPL]   \n",
       "\n",
       "            Ship_GST          Bill_Name           Bill_Gst Vendor_Code  \\\n",
       "0  [27AACCT9803D1ZE]  [Borosil Limited]  [08AACCH5367G1ZH]  [10105397]   \n",
       "\n",
       "            Pan Tan                                           Ship_Add  \\\n",
       "0  [AACCH5367G]  []  [[Star Bazaar-Trent Hypermarket Pvt L, GAT NO ...   \n",
       "\n",
       "                                            Bill_Add  \n",
       "0  [[,Village Balekhan, PS Anatpura, ,, Nr Govind...  "
      ]
     },
     "execution_count": 25,
     "metadata": {},
     "output_type": "execute_result"
    }
   ],
   "source": [
    "df"
   ]
  },
  {
   "cell_type": "code",
   "execution_count": null,
   "id": "dc9eb4e1",
   "metadata": {},
   "outputs": [],
   "source": []
  }
 ],
 "metadata": {
  "kernelspec": {
   "display_name": "Python 3 (ipykernel)",
   "language": "python",
   "name": "python3"
  },
  "language_info": {
   "codemirror_mode": {
    "name": "ipython",
    "version": 3
   },
   "file_extension": ".py",
   "mimetype": "text/x-python",
   "name": "python",
   "nbconvert_exporter": "python",
   "pygments_lexer": "ipython3",
   "version": "3.10.9"
  }
 },
 "nbformat": 4,
 "nbformat_minor": 5
}
