{
 "cells": [
  {
   "cell_type": "code",
   "execution_count": 1,
   "id": "0aae20e0",
   "metadata": {},
   "outputs": [
    {
     "name": "stdout",
     "output_type": "stream",
     "text": [
      "Requirement already satisfied: pypdf in c:\\users\\kusha\\anaconda3\\lib\\site-packages (3.16.1)\n",
      "Note: you may need to restart the kernel to use updated packages.\n"
     ]
    }
   ],
   "source": [
    "pip install pypdf"
   ]
  },
  {
   "cell_type": "code",
   "execution_count": 2,
   "id": "192368a7",
   "metadata": {},
   "outputs": [],
   "source": [
    "from pypdf import PdfReader\n",
    "pdf_file_path = \"C:/Users/kusha/Documents/Python project/dmart.pdf\" \n",
    "reader = PdfReader(pdf_file_path)\n",
    "number_of_pages = len(reader.pages)\n",
    "page = reader.pages[0]\n",
    "\n",
    "text = page.extract_text()\n",
    "\n",
    "PO_DATE=[]\n",
    "PO_NO=[]\n",
    "Sup_Name=[]\n",
    "Delivery_Date=[]\n",
    "Ship_Name=[]\n",
    "Ship_GST=[]\n",
    "Bill_Name=[]\n",
    "Bill_Gst=[]\n",
    "Vendor_Code=[]\n",
    "Pan=[]\n",
    "Tan=[]\n",
    "Ship_Add=[]\n",
    "Bill_Add=[]"
   ]
  },
  {
   "cell_type": "code",
   "execution_count": 3,
   "id": "ddf57028",
   "metadata": {},
   "outputs": [],
   "source": [
    "text=text.split('\\n')"
   ]
  },
  {
   "cell_type": "code",
   "execution_count": 4,
   "id": "238c9e7f",
   "metadata": {},
   "outputs": [
    {
     "data": {
      "text/plain": [
       "['5001348785|1033Ship/Bill To',\n",
       " 'Phone',\n",
       " 'Fax',\n",
       " 'Attn',\n",
       " 'EmailAvenue Supermarts Ltd.',\n",
       " 'ASL GM DC Baroda Gujarat Shed',\n",
       " '224, 236,,Horizon Industrial park,Near',\n",
       " '-Vadodara',\n",
       " 'Accounts payable',\n",
       " 'Buyer GM3',\n",
       " 'Email',\n",
       " 'Vendor FSSAI No.',\n",
       " 'Validity  To CIN',\n",
       " 'GSTIN:L51900MH2000PLC126473',\n",
       " ':24AACCA8432H1ZWVendor BOROSIL LIMITED',\n",
       " 'BALEKHAN,GARAM PANCHYAT',\n",
       " 'JAIPUR - 302021',\n",
       " 'Phone 0000000',\n",
       " 'FAX 000000',\n",
       " 'Email monalisa.sen@borosil.com',\n",
       " 'GSTIN 08AACCH5367G1ZHPURCHASE ORDER',\n",
       " 'PO #',\n",
       " 'PO Date',\n",
       " 'Expc.Delv.Dt5001348785',\n",
       " '06.03.2023',\n",
       " '07.03.2023',\n",
       " 'Sno EAN No Article',\n",
       " 'DescriptionU',\n",
       " 'O',\n",
       " 'M Case',\n",
       " 'Lot  Qty B.Price',\n",
       " 'Rs  T      P     V  Net',\n",
       " 'PriceSGST/',\n",
       " 'UTGST',\n",
       " '%   CGST/',\n",
       " 'IGST',\n",
       " '%   Cess L.Price',\n",
       " 'RsMRP',\n",
       " 'RsT.Value',\n",
       " 'Rs',\n",
       " ' 1 8901309208109BRSL MIXING BOWL',\n",
       " '0.5LTR[HSN',\n",
       " 'Code:70134200]EA 10 100 216.74 0.00 0.00 0.00 216.74 0.00 18.00 0.00 255.75 465.00 25575.32',\n",
       " 'G23/HRS/10-CRTN',\n",
       " ' 2 8901309107990BRSIL MXNG BWL',\n",
       " '2PC[HSN',\n",
       " 'Code:70134200]EA 6 60 417.84 0.00 0.00 0.00 417.84 0.00 18.00 0.00 493.05 865.00 29583.07',\n",
       " 'G03/HRS/25-CRTN',\n",
       " ' 3 8901309107105BRSL MIXING BOWL',\n",
       " '1.3 LTR[HSN',\n",
       " 'Code:70134200]EA 10 80 277.33 0.00 0.00 0.00 277.33 0.00 18.00 0.00 327.25 595.00 26179.95',\n",
       " 'G25/HRS/8-CRTN',\n",
       " ' 4 8901309218825BRSIL#RADIUSGLS6PC',\n",
       " '-295ML[HSN',\n",
       " 'Code:70132800]EA 16 768 235.00 0.00 0.00 0.00 235.00 0.00 18.00 0.00 277.30 675.00 212966.40',\n",
       " 'G18/HRS/8-CRTN',\n",
       " ' 5 8901309170154BRSL VISION',\n",
       " 'GLSL350ML6PC[HSN',\n",
       " 'Code:70132800]EA 16 128 277.33 0.00 0.00 0.00 277.33 0.00 18.00 0.00 327.25 595.00 41887.92',\n",
       " 'G05/HRS/12-CRTN',\n",
       " 'Total                      1,136 336,192.66 ',\n",
       " 'Page1/2',\n",
       " '']"
      ]
     },
     "execution_count": 4,
     "metadata": {},
     "output_type": "execute_result"
    }
   ],
   "source": [
    "text"
   ]
  },
  {
   "cell_type": "code",
   "execution_count": 5,
   "id": "1d1caddb",
   "metadata": {},
   "outputs": [],
   "source": [
    "def get_index(m, j, text):\n",
    "    indices = []\n",
    "    for i, x in enumerate(text):\n",
    "        if m in x:\n",
    "            indices.append(i + j)\n",
    "    return indices\n"
   ]
  },
  {
   "cell_type": "code",
   "execution_count": 6,
   "id": "cc2c3377",
   "metadata": {},
   "outputs": [],
   "source": [
    "m=get_index('PO Date',2,text)"
   ]
  },
  {
   "cell_type": "code",
   "execution_count": 7,
   "id": "9fd72d77",
   "metadata": {},
   "outputs": [],
   "source": [
    "PO_DATE.append(text[m[0]])\n"
   ]
  },
  {
   "cell_type": "code",
   "execution_count": 8,
   "id": "c5c8ffa1",
   "metadata": {},
   "outputs": [],
   "source": [
    "#PO Number"
   ]
  },
  {
   "cell_type": "code",
   "execution_count": 9,
   "id": "a630debf",
   "metadata": {},
   "outputs": [],
   "source": [
    "m=text[0]\n",
    "m=m.split('|')\n",
    "PO_NO.append(m[0])\n"
   ]
  },
  {
   "cell_type": "code",
   "execution_count": 10,
   "id": "b4eb79a6",
   "metadata": {},
   "outputs": [
    {
     "data": {
      "text/plain": [
       "[25]"
      ]
     },
     "execution_count": 10,
     "metadata": {},
     "output_type": "execute_result"
    }
   ],
   "source": [
    "m=get_index('Expc.Delv.Dt',2,text)\n",
    "m\n"
   ]
  },
  {
   "cell_type": "code",
   "execution_count": 11,
   "id": "eb992bb4",
   "metadata": {},
   "outputs": [
    {
     "data": {
      "text/plain": [
       "['07.03.2023']"
      ]
     },
     "execution_count": 11,
     "metadata": {},
     "output_type": "execute_result"
    }
   ],
   "source": [
    "Delivery_Date.append(text[m[0]])\n",
    "Delivery_Date"
   ]
  },
  {
   "cell_type": "code",
   "execution_count": 12,
   "id": "a4f617b5",
   "metadata": {},
   "outputs": [],
   "source": [
    "m=get_index('Ship',4,text)"
   ]
  },
  {
   "cell_type": "code",
   "execution_count": 13,
   "id": "747b4d3f",
   "metadata": {},
   "outputs": [],
   "source": [
    "m=text[m[0]].split('l')"
   ]
  },
  {
   "cell_type": "code",
   "execution_count": 14,
   "id": "dc2f1a3e",
   "metadata": {},
   "outputs": [
    {
     "data": {
      "text/plain": [
       "['Avenue Supermarts Ltd.']"
      ]
     },
     "execution_count": 14,
     "metadata": {},
     "output_type": "execute_result"
    }
   ],
   "source": [
    "Ship_Name.append(m[1])\n",
    "Ship_Name"
   ]
  },
  {
   "cell_type": "code",
   "execution_count": 15,
   "id": "4cdb1fcc",
   "metadata": {},
   "outputs": [],
   "source": [
    "#Ship GST\n",
    "j=get_index(\"GSTIN\",1,text)\n",
    "m=text[j[0]]\n",
    "m=m.split(\"V\")\n",
    "Ship_GST.append(m[0])\n",
    "\n",
    "# GST TO BE EXTRACTED"
   ]
  },
  {
   "cell_type": "code",
   "execution_count": 16,
   "id": "b7afd7c4",
   "metadata": {},
   "outputs": [],
   "source": [
    "#BILL GST\n",
    "j=get_index(\"GSTIN\",0,text)\n",
    "m=text[j[1]]\n",
    "m=m.split(\" \")\n",
    "m=m[1].split(\"P\")\n",
    "Bill_Gst.append(m[0])\n",
    "# m=m.split(\":\")\n",
    "# Bill_Gst.append(m)"
   ]
  },
  {
   "cell_type": "code",
   "execution_count": 17,
   "id": "92f72373",
   "metadata": {},
   "outputs": [
    {
     "data": {
      "text/plain": [
       "[':24AACCA8432H1ZWVendor', 'BOROSIL', 'LIMITED']"
      ]
     },
     "execution_count": 17,
     "metadata": {},
     "output_type": "execute_result"
    }
   ],
   "source": [
    "m=get_index(\"Vendor\",3,text)\n",
    "text[m[0]]\n",
    "z=text[m[0]].split(\" \")\n",
    "z"
   ]
  },
  {
   "cell_type": "code",
   "execution_count": 18,
   "id": "4feb521f",
   "metadata": {},
   "outputs": [],
   "source": [
    "j=z[1]+\" \"+z[2]"
   ]
  },
  {
   "cell_type": "code",
   "execution_count": 19,
   "id": "ca947823",
   "metadata": {},
   "outputs": [],
   "source": [
    "Bill_Name.append(j)"
   ]
  },
  {
   "cell_type": "code",
   "execution_count": 20,
   "id": "a25dd047",
   "metadata": {},
   "outputs": [],
   "source": [
    "m=get_index(\"BOROSIL\",1,text)\n",
    "for i in range(0,2):\n",
    "    Bill_Add.append(text[m[0]+i])\n"
   ]
  },
  {
   "cell_type": "code",
   "execution_count": 21,
   "id": "6f5da5cd",
   "metadata": {},
   "outputs": [
    {
     "data": {
      "text/plain": [
       "['BALEKHAN,GARAM PANCHYAT', 'JAIPUR - 302021']"
      ]
     },
     "execution_count": 21,
     "metadata": {},
     "output_type": "execute_result"
    }
   ],
   "source": [
    "Bill_Add"
   ]
  },
  {
   "cell_type": "code",
   "execution_count": 22,
   "id": "e061798e",
   "metadata": {},
   "outputs": [],
   "source": [
    "import pandas as pd\n"
   ]
  },
  {
   "cell_type": "code",
   "execution_count": 23,
   "id": "3c89fcfb",
   "metadata": {},
   "outputs": [],
   "source": [
    "# new_data={'PO_DATE':PO_DATE,\n",
    "#           'PO_NO':PO_NO,\n",
    "# 'Sup_Name':Sup_Name,\n",
    "# 'Delivery_Date':Delivery_Date,\n",
    "# 'Ship_Name':Ship_Name,\n",
    "# 'Ship_GST':Ship_GST,\n",
    "# 'Bill_Name':Bill_Name,\n",
    "# 'Bill_Gst':Bill_Gst,\n",
    "# 'Vendor_Code':Vendor_Code,\n",
    "# 'Pan':Pan,\n",
    "# 'Tan':Tan,\n",
    "# 'Ship_Add':Ship_Add,\n",
    "# 'Bill_Add':Bill_Add,}"
   ]
  },
  {
   "cell_type": "code",
   "execution_count": 24,
   "id": "0d2f0d1d",
   "metadata": {},
   "outputs": [],
   "source": [
    "import pandas as pd\n",
    "\n",
    "df = pd.DataFrame()\n",
    "\n",
    "# Wrap each value in a list to make them a single-element series\n",
    "new_data = {\n",
    "    'PO_DATE': [PO_DATE],\n",
    "    'PO_NO': [PO_NO],\n",
    "    'Sup_Name': [Sup_Name],\n",
    "    'Delivery_Date': [Delivery_Date],\n",
    "    'Ship_Name': [Ship_Name],\n",
    "    'Ship_GST': [Ship_GST],\n",
    "    'Bill_Name': [Bill_Name],\n",
    "    'Bill_Gst': [Bill_Gst],\n",
    "    'Vendor_Code': [Vendor_Code],\n",
    "    'Pan': [Pan],\n",
    "    'Tan': [Tan],\n",
    "    'Ship_Add': [Ship_Add],\n",
    "    'Bill_Add': [Bill_Add]\n",
    "}\n",
    "\n",
    "\n",
    "# Create a DataFrame from the dictionary\n",
    "df = pd.DataFrame(new_data)\n"
   ]
  },
  {
   "cell_type": "code",
   "execution_count": 25,
   "id": "ddff147e",
   "metadata": {},
   "outputs": [
    {
     "data": {
      "text/html": [
       "<div>\n",
       "<style scoped>\n",
       "    .dataframe tbody tr th:only-of-type {\n",
       "        vertical-align: middle;\n",
       "    }\n",
       "\n",
       "    .dataframe tbody tr th {\n",
       "        vertical-align: top;\n",
       "    }\n",
       "\n",
       "    .dataframe thead th {\n",
       "        text-align: right;\n",
       "    }\n",
       "</style>\n",
       "<table border=\"1\" class=\"dataframe\">\n",
       "  <thead>\n",
       "    <tr style=\"text-align: right;\">\n",
       "      <th></th>\n",
       "      <th>PO_DATE</th>\n",
       "      <th>PO_NO</th>\n",
       "      <th>Sup_Name</th>\n",
       "      <th>Delivery_Date</th>\n",
       "      <th>Ship_Name</th>\n",
       "      <th>Ship_GST</th>\n",
       "      <th>Bill_Name</th>\n",
       "      <th>Bill_Gst</th>\n",
       "      <th>Vendor_Code</th>\n",
       "      <th>Pan</th>\n",
       "      <th>Tan</th>\n",
       "      <th>Ship_Add</th>\n",
       "      <th>Bill_Add</th>\n",
       "    </tr>\n",
       "  </thead>\n",
       "  <tbody>\n",
       "    <tr>\n",
       "      <th>0</th>\n",
       "      <td>[06.03.2023]</td>\n",
       "      <td>[5001348785]</td>\n",
       "      <td>[]</td>\n",
       "      <td>[07.03.2023]</td>\n",
       "      <td>[Avenue Supermarts Ltd.]</td>\n",
       "      <td>[:24AACCA8432H1ZW]</td>\n",
       "      <td>[BOROSIL LIMITED]</td>\n",
       "      <td>[08AACCH5367G1ZH]</td>\n",
       "      <td>[]</td>\n",
       "      <td>[]</td>\n",
       "      <td>[]</td>\n",
       "      <td>[]</td>\n",
       "      <td>[BALEKHAN,GARAM PANCHYAT, JAIPUR - 302021]</td>\n",
       "    </tr>\n",
       "  </tbody>\n",
       "</table>\n",
       "</div>"
      ],
      "text/plain": [
       "        PO_DATE         PO_NO Sup_Name Delivery_Date  \\\n",
       "0  [06.03.2023]  [5001348785]       []  [07.03.2023]   \n",
       "\n",
       "                  Ship_Name            Ship_GST          Bill_Name  \\\n",
       "0  [Avenue Supermarts Ltd.]  [:24AACCA8432H1ZW]  [BOROSIL LIMITED]   \n",
       "\n",
       "            Bill_Gst Vendor_Code Pan Tan Ship_Add  \\\n",
       "0  [08AACCH5367G1ZH]          []  []  []       []   \n",
       "\n",
       "                                     Bill_Add  \n",
       "0  [BALEKHAN,GARAM PANCHYAT, JAIPUR - 302021]  "
      ]
     },
     "execution_count": 25,
     "metadata": {},
     "output_type": "execute_result"
    }
   ],
   "source": [
    "df"
   ]
  },
  {
   "cell_type": "code",
   "execution_count": 26,
   "id": "a48f819b",
   "metadata": {},
   "outputs": [
    {
     "ename": "PermissionError",
     "evalue": "[Errno 13] Permission denied: 'output.xlsx'",
     "output_type": "error",
     "traceback": [
      "\u001b[1;31m---------------------------------------------------------------------------\u001b[0m",
      "\u001b[1;31mPermissionError\u001b[0m                           Traceback (most recent call last)",
      "Cell \u001b[1;32mIn[26], line 1\u001b[0m\n\u001b[1;32m----> 1\u001b[0m \u001b[38;5;28;01mwith\u001b[39;00m \u001b[43mpd\u001b[49m\u001b[38;5;241;43m.\u001b[39;49m\u001b[43mExcelWriter\u001b[49m\u001b[43m(\u001b[49m\u001b[38;5;124;43m'\u001b[39;49m\u001b[38;5;124;43moutput.xlsx\u001b[39;49m\u001b[38;5;124;43m'\u001b[39;49m\u001b[43m,\u001b[49m\u001b[43mmode\u001b[49m\u001b[38;5;241;43m=\u001b[39;49m\u001b[38;5;124;43m'\u001b[39;49m\u001b[38;5;124;43ma\u001b[39;49m\u001b[38;5;124;43m'\u001b[39;49m\u001b[43m,\u001b[49m\u001b[43mengine\u001b[49m\u001b[38;5;241;43m=\u001b[39;49m\u001b[38;5;124;43m'\u001b[39;49m\u001b[38;5;124;43mopenpyxl\u001b[39;49m\u001b[38;5;124;43m'\u001b[39;49m\u001b[43m,\u001b[49m\u001b[43mif_sheet_exists\u001b[49m\u001b[38;5;241;43m=\u001b[39;49m\u001b[38;5;124;43m'\u001b[39;49m\u001b[38;5;124;43mreplace\u001b[39;49m\u001b[38;5;124;43m'\u001b[39;49m\u001b[43m)\u001b[49m \u001b[38;5;28;01mas\u001b[39;00m writer:\n\u001b[0;32m      2\u001b[0m     df\u001b[38;5;241m.\u001b[39mto_excel(writer,sheet_name\u001b[38;5;241m=\u001b[39m\u001b[38;5;124m'\u001b[39m\u001b[38;5;124mSheet-2\u001b[39m\u001b[38;5;124m'\u001b[39m)\n",
      "File \u001b[1;32m~\\anaconda3\\lib\\site-packages\\pandas\\io\\excel\\_openpyxl.py:60\u001b[0m, in \u001b[0;36mOpenpyxlWriter.__init__\u001b[1;34m(self, path, engine, date_format, datetime_format, mode, storage_options, if_sheet_exists, engine_kwargs, **kwargs)\u001b[0m\n\u001b[0;32m     56\u001b[0m \u001b[38;5;28;01mfrom\u001b[39;00m \u001b[38;5;21;01mopenpyxl\u001b[39;00m\u001b[38;5;21;01m.\u001b[39;00m\u001b[38;5;21;01mworkbook\u001b[39;00m \u001b[38;5;28;01mimport\u001b[39;00m Workbook\n\u001b[0;32m     58\u001b[0m engine_kwargs \u001b[38;5;241m=\u001b[39m combine_kwargs(engine_kwargs, kwargs)\n\u001b[1;32m---> 60\u001b[0m \u001b[38;5;28;43msuper\u001b[39;49m\u001b[43m(\u001b[49m\u001b[43m)\u001b[49m\u001b[38;5;241;43m.\u001b[39;49m\u001b[38;5;21;43m__init__\u001b[39;49m\u001b[43m(\u001b[49m\n\u001b[0;32m     61\u001b[0m \u001b[43m    \u001b[49m\u001b[43mpath\u001b[49m\u001b[43m,\u001b[49m\n\u001b[0;32m     62\u001b[0m \u001b[43m    \u001b[49m\u001b[43mmode\u001b[49m\u001b[38;5;241;43m=\u001b[39;49m\u001b[43mmode\u001b[49m\u001b[43m,\u001b[49m\n\u001b[0;32m     63\u001b[0m \u001b[43m    \u001b[49m\u001b[43mstorage_options\u001b[49m\u001b[38;5;241;43m=\u001b[39;49m\u001b[43mstorage_options\u001b[49m\u001b[43m,\u001b[49m\n\u001b[0;32m     64\u001b[0m \u001b[43m    \u001b[49m\u001b[43mif_sheet_exists\u001b[49m\u001b[38;5;241;43m=\u001b[39;49m\u001b[43mif_sheet_exists\u001b[49m\u001b[43m,\u001b[49m\n\u001b[0;32m     65\u001b[0m \u001b[43m    \u001b[49m\u001b[43mengine_kwargs\u001b[49m\u001b[38;5;241;43m=\u001b[39;49m\u001b[43mengine_kwargs\u001b[49m\u001b[43m,\u001b[49m\n\u001b[0;32m     66\u001b[0m \u001b[43m\u001b[49m\u001b[43m)\u001b[49m\n\u001b[0;32m     68\u001b[0m \u001b[38;5;66;03m# ExcelWriter replaced \"a\" by \"r+\" to allow us to first read the excel file from\u001b[39;00m\n\u001b[0;32m     69\u001b[0m \u001b[38;5;66;03m# the file and later write to it\u001b[39;00m\n\u001b[0;32m     70\u001b[0m \u001b[38;5;28;01mif\u001b[39;00m \u001b[38;5;124m\"\u001b[39m\u001b[38;5;124mr+\u001b[39m\u001b[38;5;124m\"\u001b[39m \u001b[38;5;129;01min\u001b[39;00m \u001b[38;5;28mself\u001b[39m\u001b[38;5;241m.\u001b[39m_mode:  \u001b[38;5;66;03m# Load from existing workbook\u001b[39;00m\n",
      "File \u001b[1;32m~\\anaconda3\\lib\\site-packages\\pandas\\io\\excel\\_base.py:1313\u001b[0m, in \u001b[0;36mExcelWriter.__init__\u001b[1;34m(self, path, engine, date_format, datetime_format, mode, storage_options, if_sheet_exists, engine_kwargs, **kwargs)\u001b[0m\n\u001b[0;32m   1309\u001b[0m \u001b[38;5;28mself\u001b[39m\u001b[38;5;241m.\u001b[39m_handles \u001b[38;5;241m=\u001b[39m IOHandles(\n\u001b[0;32m   1310\u001b[0m     cast(IO[\u001b[38;5;28mbytes\u001b[39m], path), compression\u001b[38;5;241m=\u001b[39m{\u001b[38;5;124m\"\u001b[39m\u001b[38;5;124mcompression\u001b[39m\u001b[38;5;124m\"\u001b[39m: \u001b[38;5;28;01mNone\u001b[39;00m}\n\u001b[0;32m   1311\u001b[0m )\n\u001b[0;32m   1312\u001b[0m \u001b[38;5;28;01mif\u001b[39;00m \u001b[38;5;129;01mnot\u001b[39;00m \u001b[38;5;28misinstance\u001b[39m(path, ExcelWriter):\n\u001b[1;32m-> 1313\u001b[0m     \u001b[38;5;28mself\u001b[39m\u001b[38;5;241m.\u001b[39m_handles \u001b[38;5;241m=\u001b[39m \u001b[43mget_handle\u001b[49m\u001b[43m(\u001b[49m\n\u001b[0;32m   1314\u001b[0m \u001b[43m        \u001b[49m\u001b[43mpath\u001b[49m\u001b[43m,\u001b[49m\u001b[43m \u001b[49m\u001b[43mmode\u001b[49m\u001b[43m,\u001b[49m\u001b[43m \u001b[49m\u001b[43mstorage_options\u001b[49m\u001b[38;5;241;43m=\u001b[39;49m\u001b[43mstorage_options\u001b[49m\u001b[43m,\u001b[49m\u001b[43m \u001b[49m\u001b[43mis_text\u001b[49m\u001b[38;5;241;43m=\u001b[39;49m\u001b[38;5;28;43;01mFalse\u001b[39;49;00m\n\u001b[0;32m   1315\u001b[0m \u001b[43m    \u001b[49m\u001b[43m)\u001b[49m\n\u001b[0;32m   1316\u001b[0m \u001b[38;5;28mself\u001b[39m\u001b[38;5;241m.\u001b[39m_cur_sheet \u001b[38;5;241m=\u001b[39m \u001b[38;5;28;01mNone\u001b[39;00m\n\u001b[0;32m   1318\u001b[0m \u001b[38;5;28;01mif\u001b[39;00m date_format \u001b[38;5;129;01mis\u001b[39;00m \u001b[38;5;28;01mNone\u001b[39;00m:\n",
      "File \u001b[1;32m~\\anaconda3\\lib\\site-packages\\pandas\\io\\common.py:865\u001b[0m, in \u001b[0;36mget_handle\u001b[1;34m(path_or_buf, mode, encoding, compression, memory_map, is_text, errors, storage_options)\u001b[0m\n\u001b[0;32m    856\u001b[0m         handle \u001b[38;5;241m=\u001b[39m \u001b[38;5;28mopen\u001b[39m(\n\u001b[0;32m    857\u001b[0m             handle,\n\u001b[0;32m    858\u001b[0m             ioargs\u001b[38;5;241m.\u001b[39mmode,\n\u001b[1;32m   (...)\u001b[0m\n\u001b[0;32m    861\u001b[0m             newline\u001b[38;5;241m=\u001b[39m\u001b[38;5;124m\"\u001b[39m\u001b[38;5;124m\"\u001b[39m,\n\u001b[0;32m    862\u001b[0m         )\n\u001b[0;32m    863\u001b[0m     \u001b[38;5;28;01melse\u001b[39;00m:\n\u001b[0;32m    864\u001b[0m         \u001b[38;5;66;03m# Binary mode\u001b[39;00m\n\u001b[1;32m--> 865\u001b[0m         handle \u001b[38;5;241m=\u001b[39m \u001b[38;5;28;43mopen\u001b[39;49m\u001b[43m(\u001b[49m\u001b[43mhandle\u001b[49m\u001b[43m,\u001b[49m\u001b[43m \u001b[49m\u001b[43mioargs\u001b[49m\u001b[38;5;241;43m.\u001b[39;49m\u001b[43mmode\u001b[49m\u001b[43m)\u001b[49m\n\u001b[0;32m    866\u001b[0m     handles\u001b[38;5;241m.\u001b[39mappend(handle)\n\u001b[0;32m    868\u001b[0m \u001b[38;5;66;03m# Convert BytesIO or file objects passed with an encoding\u001b[39;00m\n",
      "\u001b[1;31mPermissionError\u001b[0m: [Errno 13] Permission denied: 'output.xlsx'"
     ]
    }
   ],
   "source": [
    "with pd.ExcelWriter('output.xlsx',mode='a',engine='openpyxl',if_sheet_exists='replace') as writer:\n",
    "    df.to_excel(writer,sheet_name='Sheet-2')"
   ]
  },
  {
   "cell_type": "code",
   "execution_count": null,
   "id": "49c1f39e",
   "metadata": {},
   "outputs": [],
   "source": [
    "Sup_Name"
   ]
  },
  {
   "cell_type": "code",
   "execution_count": null,
   "id": "618e878a",
   "metadata": {},
   "outputs": [],
   "source": [
    "Ship_Add"
   ]
  },
  {
   "cell_type": "code",
   "execution_count": null,
   "id": "f87d88c8",
   "metadata": {},
   "outputs": [],
   "source": [
    "Ship_GST"
   ]
  },
  {
   "cell_type": "code",
   "execution_count": null,
   "id": "d81fc7e0",
   "metadata": {},
   "outputs": [],
   "source": [
    "Bill_Gst"
   ]
  },
  {
   "cell_type": "code",
   "execution_count": null,
   "id": "d19acc73",
   "metadata": {},
   "outputs": [],
   "source": []
  }
 ],
 "metadata": {
  "kernelspec": {
   "display_name": "Python 3 (ipykernel)",
   "language": "python",
   "name": "python3"
  },
  "language_info": {
   "codemirror_mode": {
    "name": "ipython",
    "version": 3
   },
   "file_extension": ".py",
   "mimetype": "text/x-python",
   "name": "python",
   "nbconvert_exporter": "python",
   "pygments_lexer": "ipython3",
   "version": "3.10.9"
  }
 },
 "nbformat": 4,
 "nbformat_minor": 5
}
